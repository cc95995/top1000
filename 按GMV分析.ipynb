{
 "cells": [
  {
   "cell_type": "code",
   "execution_count": 1,
   "metadata": {},
   "outputs": [],
   "source": [
    "import numpy as np\n",
    "import pandas as pd"
   ]
  },
  {
   "cell_type": "code",
   "execution_count": 7,
   "metadata": {},
   "outputs": [],
   "source": [
    "data1 = pd.read_csv(\"D:/pytest/liushui/1liushui.csv\", encoding=\"gbk\")\n",
    "data1 = data1[['订单时间','企业名称系统存储','一级分类','三级分类','金额', '区域', '下单来源']]"
   ]
  },
  {
   "cell_type": "code",
   "execution_count": 8,
   "metadata": {},
   "outputs": [],
   "source": [
    "for i in range(2,12):\n",
    "    data2 = pd.read_csv(\"D:/pytest/liushui/%dliushui.csv\"%i, encoding=\"gbk\")\n",
    "    data2 = data2[['订单时间','企业名称系统存储','一级分类','三级分类','金额', '区域', '下单来源']]\n",
    "    data = pd.concat([data1, data2])\n",
    "    data1 = data"
   ]
  },
  {
   "cell_type": "code",
   "execution_count": null,
   "metadata": {},
   "outputs": [],
   "source": [
    "data3 = pd.read_csv(\"D:/pytest/liushui/1liushui.csv\", encoding=\"gbk\")"
   ]
  }
 ],
 "metadata": {
  "kernelspec": {
   "display_name": "Python 3",
   "language": "python",
   "name": "python3"
  },
  "language_info": {
   "codemirror_mode": {
    "name": "ipython",
    "version": 3
   },
   "file_extension": ".py",
   "mimetype": "text/x-python",
   "name": "python",
   "nbconvert_exporter": "python",
   "pygments_lexer": "ipython3",
   "version": "3.7.0"
  }
 },
 "nbformat": 4,
 "nbformat_minor": 2
}
