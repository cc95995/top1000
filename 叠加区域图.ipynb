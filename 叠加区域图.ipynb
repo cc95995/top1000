{
 "cells": [
  {
   "cell_type": "code",
   "execution_count": 186,
   "metadata": {},
   "outputs": [
    {
     "name": "stderr",
     "output_type": "stream",
     "text": [
      "c:\\users\\zhangchi23\\appdata\\local\\programs\\python\\python37\\lib\\site-packages\\ipykernel_launcher.py:11: FutureWarning: Sorting because non-concatenation axis is not aligned. A future version\n",
      "of pandas will change to not sort by default.\n",
      "\n",
      "To accept the future behavior, pass 'sort=False'.\n",
      "\n",
      "To retain the current behavior and silence the warning, pass 'sort=True'.\n",
      "\n",
      "  # This is added back by InteractiveShellApp.init_path()\n"
     ]
    },
    {
     "name": "stdout",
     "output_type": "stream",
     "text": [
      "<method 'time' of 'datetime.datetime' objects>\n"
     ]
    }
   ],
   "source": [
    "enterprise = '中国联合网络通信集团有限公司'\n",
    "import pandas as pd\n",
    "import numpy as np\n",
    "from datetime import datetime\n",
    "import matplotlib.pyplot as plt\n",
    "data1 = pd.read_csv(\"D:/pytest/liushui/1liushui.csv\", encoding=\"gbk\")\n",
    "data1_lt = data1[data1['企业名称系统存储'] == enterprise]\n",
    "for i in range(2,12):\n",
    "    data2 = pd.read_csv(\"D:/pytest/liushui/%dliushui.csv\"%i, encoding=\"gbk\")\n",
    "    data2_lt = data2[data2['企业名称系统存储'] == enterprise]\n",
    "    data = pd.concat([data1_lt, data2_lt])\n",
    "    data1_lt = data \n",
    "print(datetime.time)"
   ]
  },
  {
   "cell_type": "code",
   "execution_count": 188,
   "metadata": {},
   "outputs": [],
   "source": [
    "data1_lt_copy = data1_lt.copy()\n",
    "data1_lt_copy =data1_lt_copy[data1_lt_copy.一级分类.isin(['电脑、办公', '数码', '家用电器'])]"
   ]
  },
  {
   "cell_type": "code",
   "execution_count": 189,
   "metadata": {},
   "outputs": [],
   "source": [
    "data1_lt_copy['date'] = pd.to_datetime(data1_lt_copy['订单时间'],infer_datetime_format=True)  \n",
    "data1_lt_pivot = pd.pivot_table(data1_lt_copy, index=['date'], columns=['一级分类'], values=['金额'], aggfunc = np.sum)\n",
    "data1_lt_pivot = data1_lt_pivot.reset_index()\n",
    "data1_lt_pivot = data1_lt_pivot.fillna(0)\n",
    "data1_lt_pivot_copy = data1_lt_pivot.copy()\n",
    "data1_lt_pivot_copy['date'] = [datetime.strftime(x, '%Y/%m/%d') for x in data1_lt_pivot_copy['date']]\n",
    "data1_lt_pivot_copy_2 =data1_lt_pivot_copy.loc[:,['金额', 'date']]\n",
    "data1_lt_pivot_copy_2 = data1_lt_pivot_copy_2.set_index('date')\n",
    "data1_lt_pivot_copy_2 = data1_lt_pivot_copy_2.sort_index()\n",
    "data1_lt_pivot_copy_2 = data1_lt_pivot_copy_2.reset_index()\n",
    "# fig = plt.figure()\n",
    "# ax = fig.add_subplot(1,1,1)\n",
    "# ax.plot(data_lt11['date'], data_lt1['金额'])\n",
    "# plt.xticks(data_lt11.date[[0,25,50,75,100,125,150,175,200,225,250,275,300]], rotation='45', ha='right')\n",
    "# plt.show()"
   ]
  },
  {
   "cell_type": "code",
   "execution_count": 191,
   "metadata": {},
   "outputs": [],
   "source": [
    "data1_lt_pivot_copy_2.columns = ['date', '家用电器', '数码', '电脑、办公']\n",
    "data1_lt_pivot.columns = ['date', '家用电器', '数码', '电脑、办公']"
   ]
  },
  {
   "cell_type": "code",
   "execution_count": 193,
   "metadata": {},
   "outputs": [
    {
     "data": {
      "text/plain": [
       "pandas._libs.tslibs.timestamps.Timestamp"
      ]
     },
     "execution_count": 193,
     "metadata": {},
     "output_type": "execute_result"
    }
   ],
   "source": [
    "type(data1_lt_pivot['date'][0])"
   ]
  },
  {
   "cell_type": "code",
   "execution_count": 194,
   "metadata": {},
   "outputs": [],
   "source": [
    "appliance = []\n",
    "# phone = []\n",
    "digital = []\n",
    "pc_official = []\n",
    "mon = []\n",
    "year = []\n",
    "for item in data1_lt_pivot.index:\n",
    "    if data1_lt_pivot['date'][item].year == 2017:\n",
    "        for month in range(1,13):\n",
    "            if data1_lt_pivot['date'][item].month == month:\n",
    "                mon.append(month)\n",
    "                appliance.append(data1_lt_pivot['家用电器'][item])\n",
    "#                 phone.append(data1_lt_pivot[ '手机'][item])\n",
    "                digital.append(data1_lt_pivot[ '数码'][item])\n",
    "                pc_official.append(data1_lt_pivot['电脑、办公'][item])\n",
    "                year.append(2017)\n",
    "                \n",
    "    if data1_lt_pivot['date'][item].year == 2018:\n",
    "        for month in range(1,13):\n",
    "            if data1_lt_pivot['date'][item].month == month:\n",
    "                mon.append(month)\n",
    "                appliance.append(data1_lt_pivot['家用电器'][item])\n",
    "#                 phone.append(data1_lt_pivot[ '手机'][item])\n",
    "                digital.append(data1_lt_pivot[ '数码'][item])\n",
    "                pc_official.append(data1_lt_pivot['电脑、办公'][item])\n",
    "                year.append(2018)\n",
    "                \n",
    "data_pivot_day = pd.DataFrame(list(zip(mon, appliance, digital, pc_official, year)))\n",
    "data_pivot_day.columns = ['月份', '家用电器', '数码', '电脑、办公', '年份']"
   ]
  },
  {
   "cell_type": "code",
   "execution_count": 195,
   "metadata": {},
   "outputs": [
    {
     "name": "stderr",
     "output_type": "stream",
     "text": [
      "c:\\users\\zhangchi23\\appdata\\local\\programs\\python\\python37\\lib\\site-packages\\ipykernel_launcher.py:5: SettingWithCopyWarning: \n",
      "A value is trying to be set on a copy of a slice from a DataFrame\n",
      "\n",
      "See the caveats in the documentation: http://pandas.pydata.org/pandas-docs/stable/indexing.html#indexing-view-versus-copy\n",
      "  \"\"\"\n"
     ]
    }
   ],
   "source": [
    "#生成按天计算的透视表的日期列\n",
    "data_pivot_day['date'] =1\n",
    "#将年月合并到一列\n",
    "for i in range(0,len(data_pivot_day)):\n",
    "    data_pivot_day['date'][i] = '%s'%data_pivot_day['年份'][i] + '/' + '%s'%data_pivot_day['月份'][i]\n",
    "    \n",
    "data_pivot_month = pd.pivot_table(data_pivot_day, index=['date'] ,values=['家用电器',  '数码', '电脑、办公'], aggfunc = np.sum)\n",
    "data_pivot_month = data_pivot_month.reset_index()\n",
    "data_pivot_month['date'] = [datetime.strptime(x, '%Y/%m') for x in data_pivot_month['date']]\n",
    "data_pivot_month.sort_values(\"date\")\n",
    "data_pivot_month_copy = data_pivot_month.copy()\n",
    "data_pivot_month_copy  = data_pivot_month_copy.set_index('date')\n",
    "data_pivot_month_copy  = data_pivot_month_copy.sort_index()"
   ]
  },
  {
   "cell_type": "code",
   "execution_count": 205,
   "metadata": {
    "scrolled": true
   },
   "outputs": [
    {
     "data": {
      "image/png": "[encoded data removed]",
      "text/plain": [
       "<Figure size 432x288 with 1 Axes>"
      ]
     },
     "metadata": {
      "needs_background": "light"
     },
     "output_type": "display_data"
    }
   ],
   "source": [
    "import matplotlib as mpl\n",
    "from pylab import *\n",
    "mpl.rcParams['font.sans-serif'] = ['SimHei']\n",
    "mpl.rcParams['axes.unicode_minus'] = False\n",
    "data_pivot_month_copy.plot.area( y = [ '家用电器', '数码', '电脑、办公'], color = ['c', 'gold', 'r'])\n",
    "plt.xticks(data_pivot_month_copy.index, rotation='45', ha='right')\n",
    "x = data_pivot_month_copy.index\n",
    "y = data_pivot_month_copy[ '家用电器']\n",
    "for a,b in zip(x,y):\n",
    "    plt.text(a, b+0.05, '%.0f' % b, ha='center', va= 'bottom',fontsize=7)\n",
    "plt.title(enterprise)\n",
    "plt.show()"
   ]
  },
  {
   "cell_type": "code",
   "execution_count": null,
   "metadata": {},
   "outputs": [],
   "source": []
  }
 ],
 "metadata": {
  "kernelspec": {
   "display_name": "Python 3",
   "language": "python",
   "name": "python3"
  },
  "language_info": {
   "codemirror_mode": {
    "name": "ipython",
    "version": 3
   },
   "file_extension": ".py",
   "mimetype": "text/x-python",
   "name": "python",
   "nbconvert_exporter": "python",
   "pygments_lexer": "ipython3",
   "version": "3.7.0"
  }
 },
 "nbformat": 4,
 "nbformat_minor": 2
}
